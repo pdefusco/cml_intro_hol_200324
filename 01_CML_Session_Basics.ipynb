{
 "cells": [
  {
   "cell_type": "markdown",
   "id": "ambient-organizer",
   "metadata": {},
   "source": [
    "## CML Basics"
   ]
  },
  {
   "cell_type": "markdown",
   "id": "valued-loading",
   "metadata": {},
   "source": [
    "**Before you can get started you should install the project requirements.**"
   ]
  },
  {
   "cell_type": "markdown",
   "id": "gentle-absence",
   "metadata": {},
   "source": [
    "**The easiest way to do so is to run a pip command from a cell**"
   ]
  },
  {
   "cell_type": "code",
   "execution_count": 1,
   "id": "waiting-syntax",
   "metadata": {
    "tags": []
   },
   "outputs": [
    {
     "name": "stdout",
     "output_type": "stream",
     "text": [
      "Requirement already satisfied: folium==0.16.0 in ./.local/lib/python3.9/site-packages (0.16.0)\n",
      "Requirement already satisfied: branca>=0.6.0 in ./.local/lib/python3.9/site-packages (from folium==0.16.0) (0.7.1)\n",
      "Requirement already satisfied: jinja2>=2.9 in ./.local/lib/python3.9/site-packages (from folium==0.16.0) (3.1.3)\n",
      "Requirement already satisfied: numpy in /usr/local/lib/python3.9/site-packages (from folium==0.16.0) (1.25.2)\n",
      "Requirement already satisfied: requests in /usr/local/lib/python3.9/site-packages (from folium==0.16.0) (2.31.0)\n",
      "Requirement already satisfied: xyzservices in ./.local/lib/python3.9/site-packages (from folium==0.16.0) (2023.10.1)\n",
      "Requirement already satisfied: MarkupSafe>=2.0 in /usr/local/lib/python3.9/site-packages (from jinja2>=2.9->folium==0.16.0) (2.1.1)\n",
      "Requirement already satisfied: charset-normalizer<4,>=2 in /usr/local/lib/python3.9/site-packages (from requests->folium==0.16.0) (3.1.0)\n",
      "Requirement already satisfied: idna<4,>=2.5 in /usr/local/lib/python3.9/site-packages (from requests->folium==0.16.0) (2.10)\n",
      "Requirement already satisfied: urllib3<3,>=1.21.1 in /usr/local/lib/python3.9/site-packages (from requests->folium==0.16.0) (1.26.18)\n",
      "Requirement already satisfied: certifi>=2017.4.17 in /usr/local/lib/python3.9/site-packages (from requests->folium==0.16.0) (2023.7.22)\n"
     ]
    }
   ],
   "source": [
    "!pip3 install folium==0.16.0"
   ]
  },
  {
   "cell_type": "markdown",
   "id": "sapphire-staff",
   "metadata": {},
   "source": [
    "**Notice you need to use the exclamation mark to run the command from the notebook**"
   ]
  },
  {
   "cell_type": "markdown",
   "id": "downtown-underwear",
   "metadata": {},
   "source": [
    "**You can run the same commands from the terminal. Click on \"Terminal Access\" from the top right of the screen.**"
   ]
  },
  {
   "cell_type": "markdown",
   "id": "faced-needle",
   "metadata": {},
   "source": [
    "![title](img/cml_terminal.png)"
   ]
  },
  {
   "cell_type": "markdown",
   "id": "cooked-transcript",
   "metadata": {},
   "source": [
    "**Now you can run the same command without the exclamation mark as a prefix**"
   ]
  },
  {
   "cell_type": "markdown",
   "id": "transparent-gathering",
   "metadata": {},
   "source": [
    "![title](img/pip_install_plotly_terminal.png)"
   ]
  },
  {
   "cell_type": "markdown",
   "id": "embedded-omaha",
   "metadata": {},
   "source": [
    "**You can use this terminal to perform other actions such as navigating the file system and even accessing files such as hive-site.xml**"
   ]
  },
  {
   "cell_type": "markdown",
   "id": "provincial-france",
   "metadata": {},
   "source": [
    "![title](img/terminal_navigate.png)"
   ]
  },
  {
   "cell_type": "markdown",
   "id": "hollywood-bulgaria",
   "metadata": {},
   "source": [
    "**Typically it's better to put all packages in one file called \"requirements.txt\"**"
   ]
  },
  {
   "cell_type": "markdown",
   "id": "olive-chair",
   "metadata": {},
   "source": [
    "![title](img/requirements.png)"
   ]
  },
  {
   "cell_type": "markdown",
   "id": "hourly-separate",
   "metadata": {},
   "source": [
    "**Then, you can install all packages at once by running the following command. Of course you can also run this from the terminal**"
   ]
  },
  {
   "cell_type": "code",
   "execution_count": 2,
   "id": "diverse-publisher",
   "metadata": {
    "tags": []
   },
   "outputs": [
    {
     "name": "stdout",
     "output_type": "stream",
     "text": [
      "Requirement already satisfied: pandas==2.1.3 in ./.local/lib/python3.9/site-packages (from -r requirements.txt (line 1)) (2.1.3)\n",
      "Requirement already satisfied: scikit-learn==1.3.2 in ./.local/lib/python3.9/site-packages (from -r requirements.txt (line 2)) (1.3.2)\n",
      "Requirement already satisfied: pyarrow==14.0.1 in ./.local/lib/python3.9/site-packages (from -r requirements.txt (line 3)) (14.0.1)\n",
      "Requirement already satisfied: Flask==3.0.0 in ./.local/lib/python3.9/site-packages (from -r requirements.txt (line 4)) (3.0.0)\n",
      "Requirement already satisfied: Faker==20.1.0 in ./.local/lib/python3.9/site-packages (from -r requirements.txt (line 5)) (20.1.0)\n",
      "Requirement already satisfied: dbldatagen==0.3.5 in ./.local/lib/python3.9/site-packages (from -r requirements.txt (line 6)) (0.3.5)\n",
      "Requirement already satisfied: jmespath==1.0.1 in ./.local/lib/python3.9/site-packages (from -r requirements.txt (line 7)) (1.0.1)\n",
      "Requirement already satisfied: apache-sedona==1.5.1 in ./.local/lib/python3.9/site-packages (from -r requirements.txt (line 8)) (1.5.1)\n",
      "Requirement already satisfied: geopandas==0.14.3 in ./.local/lib/python3.9/site-packages (from -r requirements.txt (line 9)) (0.14.3)\n",
      "Requirement already satisfied: seaborn==0.13.2 in ./.local/lib/python3.9/site-packages (from -r requirements.txt (line 10)) (0.13.2)\n",
      "Requirement already satisfied: numpy<2,>=1.22.4 in /usr/local/lib/python3.9/site-packages (from pandas==2.1.3->-r requirements.txt (line 1)) (1.25.2)\n",
      "Requirement already satisfied: python-dateutil>=2.8.2 in /usr/local/lib/python3.9/site-packages (from pandas==2.1.3->-r requirements.txt (line 1)) (2.8.2)\n",
      "Requirement already satisfied: pytz>=2020.1 in /runtime-addons/cmladdon-2.0.43-b233/opt/cmladdons/python/site-packages (from pandas==2.1.3->-r requirements.txt (line 1)) (2022.7.1)\n",
      "Requirement already satisfied: tzdata>=2022.1 in ./.local/lib/python3.9/site-packages (from pandas==2.1.3->-r requirements.txt (line 1)) (2024.1)\n",
      "Requirement already satisfied: scipy>=1.5.0 in ./.local/lib/python3.9/site-packages (from scikit-learn==1.3.2->-r requirements.txt (line 2)) (1.12.0)\n",
      "Requirement already satisfied: joblib>=1.1.1 in ./.local/lib/python3.9/site-packages (from scikit-learn==1.3.2->-r requirements.txt (line 2)) (1.3.2)\n",
      "Requirement already satisfied: threadpoolctl>=2.0.0 in ./.local/lib/python3.9/site-packages (from scikit-learn==1.3.2->-r requirements.txt (line 2)) (3.3.0)\n",
      "Requirement already satisfied: Werkzeug>=3.0.0 in ./.local/lib/python3.9/site-packages (from Flask==3.0.0->-r requirements.txt (line 4)) (3.0.1)\n",
      "Requirement already satisfied: Jinja2>=3.1.2 in ./.local/lib/python3.9/site-packages (from Flask==3.0.0->-r requirements.txt (line 4)) (3.1.3)\n",
      "Requirement already satisfied: itsdangerous>=2.1.2 in ./.local/lib/python3.9/site-packages (from Flask==3.0.0->-r requirements.txt (line 4)) (2.1.2)\n",
      "Requirement already satisfied: click>=8.1.3 in /runtime-addons/cmladdon-2.0.43-b233/opt/cmladdons/python/site-packages (from Flask==3.0.0->-r requirements.txt (line 4)) (8.1.3)\n",
      "Requirement already satisfied: blinker>=1.6.2 in ./.local/lib/python3.9/site-packages (from Flask==3.0.0->-r requirements.txt (line 4)) (1.7.0)\n",
      "Requirement already satisfied: importlib-metadata>=3.6.0 in /usr/local/lib/python3.9/site-packages (from Flask==3.0.0->-r requirements.txt (line 4)) (4.11.3)\n",
      "Requirement already satisfied: attrs in /usr/local/lib/python3.9/site-packages (from apache-sedona==1.5.1->-r requirements.txt (line 8)) (23.1.0)\n",
      "Requirement already satisfied: shapely>=1.7.0 in ./.local/lib/python3.9/site-packages (from apache-sedona==1.5.1->-r requirements.txt (line 8)) (2.0.3)\n",
      "Requirement already satisfied: fiona>=1.8.21 in ./.local/lib/python3.9/site-packages (from geopandas==0.14.3->-r requirements.txt (line 9)) (1.9.6)\n",
      "Requirement already satisfied: packaging in /usr/local/lib/python3.9/site-packages (from geopandas==0.14.3->-r requirements.txt (line 9)) (23.1)\n",
      "Requirement already satisfied: pyproj>=3.3.0 in ./.local/lib/python3.9/site-packages (from geopandas==0.14.3->-r requirements.txt (line 9)) (3.6.1)\n",
      "Requirement already satisfied: matplotlib!=3.6.1,>=3.4 in /usr/local/lib/python3.9/site-packages (from seaborn==0.13.2->-r requirements.txt (line 10)) (3.7.0)\n",
      "Requirement already satisfied: certifi in /usr/local/lib/python3.9/site-packages (from fiona>=1.8.21->geopandas==0.14.3->-r requirements.txt (line 9)) (2023.7.22)\n",
      "Requirement already satisfied: click-plugins>=1.0 in ./.local/lib/python3.9/site-packages (from fiona>=1.8.21->geopandas==0.14.3->-r requirements.txt (line 9)) (1.1.1)\n",
      "Requirement already satisfied: cligj>=0.5 in ./.local/lib/python3.9/site-packages (from fiona>=1.8.21->geopandas==0.14.3->-r requirements.txt (line 9)) (0.7.2)\n",
      "Requirement already satisfied: six in /usr/local/lib/python3.9/site-packages (from fiona>=1.8.21->geopandas==0.14.3->-r requirements.txt (line 9)) (1.16.0)\n",
      "Requirement already satisfied: zipp>=0.5 in /usr/local/lib/python3.9/site-packages (from importlib-metadata>=3.6.0->Flask==3.0.0->-r requirements.txt (line 4)) (3.15.0)\n",
      "Requirement already satisfied: MarkupSafe>=2.0 in /usr/local/lib/python3.9/site-packages (from Jinja2>=3.1.2->Flask==3.0.0->-r requirements.txt (line 4)) (2.1.1)\n",
      "Requirement already satisfied: contourpy>=1.0.1 in /usr/local/lib/python3.9/site-packages (from matplotlib!=3.6.1,>=3.4->seaborn==0.13.2->-r requirements.txt (line 10)) (1.0.7)\n",
      "Requirement already satisfied: cycler>=0.10 in /usr/local/lib/python3.9/site-packages (from matplotlib!=3.6.1,>=3.4->seaborn==0.13.2->-r requirements.txt (line 10)) (0.11.0)\n",
      "Requirement already satisfied: fonttools>=4.22.0 in /usr/local/lib/python3.9/site-packages (from matplotlib!=3.6.1,>=3.4->seaborn==0.13.2->-r requirements.txt (line 10)) (4.39.3)\n",
      "Requirement already satisfied: kiwisolver>=1.0.1 in /usr/local/lib/python3.9/site-packages (from matplotlib!=3.6.1,>=3.4->seaborn==0.13.2->-r requirements.txt (line 10)) (1.4.4)\n",
      "Requirement already satisfied: pillow>=6.2.0 in /usr/local/lib/python3.9/site-packages (from matplotlib!=3.6.1,>=3.4->seaborn==0.13.2->-r requirements.txt (line 10)) (10.0.1)\n",
      "Requirement already satisfied: pyparsing>=2.3.1 in /usr/local/lib/python3.9/site-packages (from matplotlib!=3.6.1,>=3.4->seaborn==0.13.2->-r requirements.txt (line 10)) (3.0.9)\n",
      "Requirement already satisfied: importlib-resources>=3.2.0 in /usr/local/lib/python3.9/site-packages (from matplotlib!=3.6.1,>=3.4->seaborn==0.13.2->-r requirements.txt (line 10)) (5.12.0)\n"
     ]
    }
   ],
   "source": [
    "!pip3 install -r requirements.txt"
   ]
  },
  {
   "cell_type": "markdown",
   "id": "removable-abraham",
   "metadata": {},
   "source": [
    "**Now the dependencies will be permanently installed in the project. If you close your session you will be able to resume without rerunning the commands above.**"
   ]
  },
  {
   "cell_type": "markdown",
   "id": "optimum-stockholm",
   "metadata": {},
   "source": [
    "**You can choose from a broad variety of open source packages. Here are a couple of examples built with common libraries such as Plotly, GeoPandas and Folium**"
   ]
  },
  {
   "cell_type": "code",
   "execution_count": 3,
   "id": "incredible-concept",
   "metadata": {
    "tags": []
   },
   "outputs": [
    {
     "name": "stdout",
     "output_type": "stream",
     "text": [
      "Requirement already satisfied: shapely in ./.local/lib/python3.9/site-packages (2.0.3)\n",
      "Requirement already satisfied: pyshp in ./.local/lib/python3.9/site-packages (2.3.1)\n",
      "Requirement already satisfied: geopandas in ./.local/lib/python3.9/site-packages (0.14.3)\n",
      "Requirement already satisfied: numpy<2,>=1.14 in /usr/local/lib/python3.9/site-packages (from shapely) (1.25.2)\n",
      "Requirement already satisfied: fiona>=1.8.21 in ./.local/lib/python3.9/site-packages (from geopandas) (1.9.6)\n",
      "Requirement already satisfied: packaging in /usr/local/lib/python3.9/site-packages (from geopandas) (23.1)\n",
      "Requirement already satisfied: pandas>=1.4.0 in ./.local/lib/python3.9/site-packages (from geopandas) (2.1.3)\n",
      "Requirement already satisfied: pyproj>=3.3.0 in ./.local/lib/python3.9/site-packages (from geopandas) (3.6.1)\n",
      "Requirement already satisfied: attrs>=19.2.0 in /usr/local/lib/python3.9/site-packages (from fiona>=1.8.21->geopandas) (23.1.0)\n",
      "Requirement already satisfied: certifi in /usr/local/lib/python3.9/site-packages (from fiona>=1.8.21->geopandas) (2023.7.22)\n",
      "Requirement already satisfied: click~=8.0 in /runtime-addons/cmladdon-2.0.43-b233/opt/cmladdons/python/site-packages (from fiona>=1.8.21->geopandas) (8.1.3)\n",
      "Requirement already satisfied: click-plugins>=1.0 in ./.local/lib/python3.9/site-packages (from fiona>=1.8.21->geopandas) (1.1.1)\n",
      "Requirement already satisfied: cligj>=0.5 in ./.local/lib/python3.9/site-packages (from fiona>=1.8.21->geopandas) (0.7.2)\n",
      "Requirement already satisfied: six in /usr/local/lib/python3.9/site-packages (from fiona>=1.8.21->geopandas) (1.16.0)\n",
      "Requirement already satisfied: importlib-metadata in /usr/local/lib/python3.9/site-packages (from fiona>=1.8.21->geopandas) (4.11.3)\n",
      "Requirement already satisfied: python-dateutil>=2.8.2 in /usr/local/lib/python3.9/site-packages (from pandas>=1.4.0->geopandas) (2.8.2)\n",
      "Requirement already satisfied: pytz>=2020.1 in /runtime-addons/cmladdon-2.0.43-b233/opt/cmladdons/python/site-packages (from pandas>=1.4.0->geopandas) (2022.7.1)\n",
      "Requirement already satisfied: tzdata>=2022.1 in ./.local/lib/python3.9/site-packages (from pandas>=1.4.0->geopandas) (2024.1)\n",
      "Requirement already satisfied: zipp>=0.5 in /usr/local/lib/python3.9/site-packages (from importlib-metadata->fiona>=1.8.21->geopandas) (3.15.0)\n"
     ]
    }
   ],
   "source": [
    "!pip3 install shapely pyshp geopandas"
   ]
  },
  {
   "cell_type": "code",
   "execution_count": 4,
   "id": "156e232d-28da-4294-8e26-fcfd880026ae",
   "metadata": {
    "tags": []
   },
   "outputs": [
    {
     "data": {
      "text/html": [
       "<iframe srcdoc=\"&lt;!DOCTYPE html&gt;\n",
       "&lt;html&gt;\n",
       "&lt;head&gt;\n",
       "    \n",
       "    &lt;meta http-equiv=&quot;content-type&quot; content=&quot;text/html; charset=UTF-8&quot; /&gt;\n",
       "    \n",
       "        &lt;script&gt;\n",
       "            L_NO_TOUCH = false;\n",
       "            L_DISABLE_3D = false;\n",
       "        &lt;/script&gt;\n",
       "    \n",
       "    &lt;style&gt;html, body {width: 100%;height: 100%;margin: 0;padding: 0;}&lt;/style&gt;\n",
       "    &lt;style&gt;#map {position:absolute;top:0;bottom:0;right:0;left:0;}&lt;/style&gt;\n",
       "    &lt;script src=&quot;https://cdn.jsdelivr.net/npm/leaflet@1.9.3/dist/leaflet.js&quot;&gt;&lt;/script&gt;\n",
       "    &lt;script src=&quot;https://code.jquery.com/jquery-3.7.1.min.js&quot;&gt;&lt;/script&gt;\n",
       "    &lt;script src=&quot;https://cdn.jsdelivr.net/npm/bootstrap@5.2.2/dist/js/bootstrap.bundle.min.js&quot;&gt;&lt;/script&gt;\n",
       "    &lt;script src=&quot;https://cdnjs.cloudflare.com/ajax/libs/Leaflet.awesome-markers/2.0.2/leaflet.awesome-markers.js&quot;&gt;&lt;/script&gt;\n",
       "    &lt;link rel=&quot;stylesheet&quot; href=&quot;https://cdn.jsdelivr.net/npm/leaflet@1.9.3/dist/leaflet.css&quot;/&gt;\n",
       "    &lt;link rel=&quot;stylesheet&quot; href=&quot;https://cdn.jsdelivr.net/npm/bootstrap@5.2.2/dist/css/bootstrap.min.css&quot;/&gt;\n",
       "    &lt;link rel=&quot;stylesheet&quot; href=&quot;https://netdna.bootstrapcdn.com/bootstrap/3.0.0/css/bootstrap.min.css&quot;/&gt;\n",
       "    &lt;link rel=&quot;stylesheet&quot; href=&quot;https://cdn.jsdelivr.net/npm/@fortawesome/fontawesome-free@6.2.0/css/all.min.css&quot;/&gt;\n",
       "    &lt;link rel=&quot;stylesheet&quot; href=&quot;https://cdnjs.cloudflare.com/ajax/libs/Leaflet.awesome-markers/2.0.2/leaflet.awesome-markers.css&quot;/&gt;\n",
       "    &lt;link rel=&quot;stylesheet&quot; href=&quot;https://cdn.jsdelivr.net/gh/python-visualization/folium/folium/templates/leaflet.awesome.rotate.min.css&quot;/&gt;\n",
       "    \n",
       "            &lt;meta name=&quot;viewport&quot; content=&quot;width=device-width,\n",
       "                initial-scale=1.0, maximum-scale=1.0, user-scalable=no&quot; /&gt;\n",
       "            &lt;style&gt;\n",
       "                #map_dc3a1f9badb25ec99312a81b909e7504 {\n",
       "                    position: relative;\n",
       "                    width: 550.0px;\n",
       "                    height: 350.0px;\n",
       "                    left: 0.0%;\n",
       "                    top: 0.0%;\n",
       "                }\n",
       "                .leaflet-container { font-size: 1rem; }\n",
       "            &lt;/style&gt;\n",
       "        \n",
       "&lt;/head&gt;\n",
       "&lt;body&gt;\n",
       "    \n",
       "    \n",
       "            &lt;div class=&quot;folium-map&quot; id=&quot;map_dc3a1f9badb25ec99312a81b909e7504&quot; &gt;&lt;/div&gt;\n",
       "        \n",
       "&lt;/body&gt;\n",
       "&lt;script&gt;\n",
       "    \n",
       "    \n",
       "            var map_dc3a1f9badb25ec99312a81b909e7504 = L.map(\n",
       "                &quot;map_dc3a1f9badb25ec99312a81b909e7504&quot;,\n",
       "                {\n",
       "                    center: [6.2476, -75.5658],\n",
       "                    crs: L.CRS.EPSG3857,\n",
       "                    zoom: 11,\n",
       "                    zoomControl: true,\n",
       "                    preferCanvas: false,\n",
       "                }\n",
       "            );\n",
       "\n",
       "            \n",
       "\n",
       "        \n",
       "    \n",
       "            var tile_layer_cf783bff76aec7fa8d3883311764bf7c = L.tileLayer(\n",
       "                &quot;https://tile.openstreetmap.org/{z}/{x}/{y}.png&quot;,\n",
       "                {&quot;attribution&quot;: &quot;\\u0026copy; \\u003ca href=\\&quot;https://www.openstreetmap.org/copyright\\&quot;\\u003eOpenStreetMap\\u003c/a\\u003e contributors&quot;, &quot;detectRetina&quot;: false, &quot;maxNativeZoom&quot;: 19, &quot;maxZoom&quot;: 19, &quot;minZoom&quot;: 5, &quot;noWrap&quot;: false, &quot;opacity&quot;: 1, &quot;subdomains&quot;: &quot;abc&quot;, &quot;tms&quot;: false}\n",
       "            );\n",
       "        \n",
       "    \n",
       "            tile_layer_cf783bff76aec7fa8d3883311764bf7c.addTo(map_dc3a1f9badb25ec99312a81b909e7504);\n",
       "        \n",
       "&lt;/script&gt;\n",
       "&lt;/html&gt;\" width=\"550\" height=\"350\"style=\"border:none !important;\" \"allowfullscreen\" \"webkitallowfullscreen\" \"mozallowfullscreen\"></iframe>"
      ],
      "text/plain": [
       "<folium.folium.Map at 0x7f88cc3bd910>"
      ]
     },
     "execution_count": 4,
     "metadata": {},
     "output_type": "execute_result"
    }
   ],
   "source": [
    "import folium\n",
    "from branca.element import Figure\n",
    "\n",
    "fig=Figure(width=550,height=350)\n",
    "m1=folium.Map(width=550,height=350,location=[6.2476, -75.5658],zoom_start=11,min_zoom=5,max_zoom=16)\n",
    "fig.add_child(m1)\n",
    "m1"
   ]
  },
  {
   "cell_type": "code",
   "execution_count": 5,
   "id": "2c8a6630-9946-4833-81b7-806caec782d6",
   "metadata": {
    "tags": []
   },
   "outputs": [],
   "source": [
    "import pandas as pd\n",
    "\n",
    "trxDf = pd.read_csv(\"data/bnk_trx.csv\")"
   ]
  },
  {
   "cell_type": "code",
   "execution_count": 6,
   "id": "814f6509-4fb7-4e70-8e6f-71d086c7b5d5",
   "metadata": {
    "tags": []
   },
   "outputs": [
    {
     "data": {
      "text/html": [
       "<div>\n",
       "<style scoped>\n",
       "    .dataframe tbody tr th:only-of-type {\n",
       "        vertical-align: middle;\n",
       "    }\n",
       "\n",
       "    .dataframe tbody tr th {\n",
       "        vertical-align: top;\n",
       "    }\n",
       "\n",
       "    .dataframe thead th {\n",
       "        text-align: right;\n",
       "    }\n",
       "</style>\n",
       "<table border=\"1\" class=\"dataframe\">\n",
       "  <thead>\n",
       "    <tr style=\"text-align: right;\">\n",
       "      <th></th>\n",
       "      <th>credit_card_number</th>\n",
       "      <th>credit_card_provider</th>\n",
       "      <th>transaction_type</th>\n",
       "      <th>event_ts</th>\n",
       "      <th>transaction_currency</th>\n",
       "      <th>transaction_amount</th>\n",
       "    </tr>\n",
       "  </thead>\n",
       "  <tbody>\n",
       "    <tr>\n",
       "      <th>0</th>\n",
       "      <td>4059440389661927</td>\n",
       "      <td>VISA 13 digit</td>\n",
       "      <td>purchase</td>\n",
       "      <td>2024-03-17T14:56:00.000Z</td>\n",
       "      <td>COP</td>\n",
       "      <td>89761</td>\n",
       "    </tr>\n",
       "    <tr>\n",
       "      <th>1</th>\n",
       "      <td>2657655523558941</td>\n",
       "      <td>Diners Club / Carte Blanche</td>\n",
       "      <td>purchase</td>\n",
       "      <td>2024-03-08T09:42:00.000Z</td>\n",
       "      <td>COP</td>\n",
       "      <td>131711</td>\n",
       "    </tr>\n",
       "    <tr>\n",
       "      <th>2</th>\n",
       "      <td>348192187924754</td>\n",
       "      <td>JCB 16 digit</td>\n",
       "      <td>cash_advance</td>\n",
       "      <td>2024-02-21T08:30:00.000Z</td>\n",
       "      <td>COP</td>\n",
       "      <td>191047</td>\n",
       "    </tr>\n",
       "    <tr>\n",
       "      <th>3</th>\n",
       "      <td>2338611900439913</td>\n",
       "      <td>VISA 19 digit</td>\n",
       "      <td>purchase</td>\n",
       "      <td>2024-01-10T05:49:00.000Z</td>\n",
       "      <td>BRL</td>\n",
       "      <td>221879</td>\n",
       "    </tr>\n",
       "    <tr>\n",
       "      <th>4</th>\n",
       "      <td>6595290541044363</td>\n",
       "      <td>VISA 16 digit</td>\n",
       "      <td>cash_advance</td>\n",
       "      <td>2024-02-16T06:42:00.000Z</td>\n",
       "      <td>USD</td>\n",
       "      <td>155527</td>\n",
       "    </tr>\n",
       "    <tr>\n",
       "      <th>...</th>\n",
       "      <td>...</td>\n",
       "      <td>...</td>\n",
       "      <td>...</td>\n",
       "      <td>...</td>\n",
       "      <td>...</td>\n",
       "      <td>...</td>\n",
       "    </tr>\n",
       "    <tr>\n",
       "      <th>9995</th>\n",
       "      <td>30439788911984</td>\n",
       "      <td>Diners Club / Carte Blanche</td>\n",
       "      <td>purchase</td>\n",
       "      <td>2024-01-31T03:48:00.000Z</td>\n",
       "      <td>COP</td>\n",
       "      <td>119272</td>\n",
       "    </tr>\n",
       "    <tr>\n",
       "      <th>9996</th>\n",
       "      <td>343514885725131</td>\n",
       "      <td>VISA 16 digit</td>\n",
       "      <td>purchase</td>\n",
       "      <td>2024-01-07T17:24:00.000Z</td>\n",
       "      <td>COP</td>\n",
       "      <td>179002</td>\n",
       "    </tr>\n",
       "    <tr>\n",
       "      <th>9997</th>\n",
       "      <td>2720908533129085</td>\n",
       "      <td>VISA 16 digit</td>\n",
       "      <td>purchase</td>\n",
       "      <td>2024-01-31T02:03:00.000Z</td>\n",
       "      <td>USD</td>\n",
       "      <td>81608</td>\n",
       "    </tr>\n",
       "    <tr>\n",
       "      <th>9998</th>\n",
       "      <td>2720081000688536</td>\n",
       "      <td>VISA 16 digit</td>\n",
       "      <td>purchase</td>\n",
       "      <td>2024-02-09T11:28:00.000Z</td>\n",
       "      <td>USD</td>\n",
       "      <td>88416</td>\n",
       "    </tr>\n",
       "    <tr>\n",
       "      <th>9999</th>\n",
       "      <td>36661223721199</td>\n",
       "      <td>Maestro</td>\n",
       "      <td>cash_advance</td>\n",
       "      <td>2024-01-20T19:20:00.000Z</td>\n",
       "      <td>USD</td>\n",
       "      <td>164703</td>\n",
       "    </tr>\n",
       "  </tbody>\n",
       "</table>\n",
       "<p>10000 rows × 6 columns</p>\n",
       "</div>"
      ],
      "text/plain": [
       "      credit_card_number         credit_card_provider transaction_type  \\\n",
       "0       4059440389661927                VISA 13 digit         purchase   \n",
       "1       2657655523558941  Diners Club / Carte Blanche         purchase   \n",
       "2        348192187924754                 JCB 16 digit     cash_advance   \n",
       "3       2338611900439913                VISA 19 digit         purchase   \n",
       "4       6595290541044363                VISA 16 digit     cash_advance   \n",
       "...                  ...                          ...              ...   \n",
       "9995      30439788911984  Diners Club / Carte Blanche         purchase   \n",
       "9996     343514885725131                VISA 16 digit         purchase   \n",
       "9997    2720908533129085                VISA 16 digit         purchase   \n",
       "9998    2720081000688536                VISA 16 digit         purchase   \n",
       "9999      36661223721199                      Maestro     cash_advance   \n",
       "\n",
       "                      event_ts transaction_currency  transaction_amount  \n",
       "0     2024-03-17T14:56:00.000Z                  COP               89761  \n",
       "1     2024-03-08T09:42:00.000Z                  COP              131711  \n",
       "2     2024-02-21T08:30:00.000Z                  COP              191047  \n",
       "3     2024-01-10T05:49:00.000Z                  BRL              221879  \n",
       "4     2024-02-16T06:42:00.000Z                  USD              155527  \n",
       "...                        ...                  ...                 ...  \n",
       "9995  2024-01-31T03:48:00.000Z                  COP              119272  \n",
       "9996  2024-01-07T17:24:00.000Z                  COP              179002  \n",
       "9997  2024-01-31T02:03:00.000Z                  USD               81608  \n",
       "9998  2024-02-09T11:28:00.000Z                  USD               88416  \n",
       "9999  2024-01-20T19:20:00.000Z                  USD              164703  \n",
       "\n",
       "[10000 rows x 6 columns]"
      ]
     },
     "execution_count": 6,
     "metadata": {},
     "output_type": "execute_result"
    }
   ],
   "source": [
    "trxDf"
   ]
  },
  {
   "cell_type": "code",
   "execution_count": 7,
   "id": "2ce32730-958c-446e-ac1d-f58023444aee",
   "metadata": {},
   "outputs": [
    {
     "data": {
      "image/png": "[encoded data removed]",
      "text/plain": [
       "<Figure size 432x288 with 1 Axes>"
      ]
     },
     "metadata": {
      "needs_background": "light"
     },
     "output_type": "display_data"
    }
   ],
   "source": [
    "import matplotlib.pyplot as plt\n",
    "import seaborn as sns\n",
    "\n",
    "sns.countplot(trxDf, x=\"transaction_currency\", hue=\"transaction_type\").set_title('Transaction Currency by Type')\n",
    "plt.show()"
   ]
  },
  {
   "cell_type": "code",
   "execution_count": 8,
   "id": "b48c22c0-20ba-4aaa-9b00-4b48fd681789",
   "metadata": {},
   "outputs": [
    {
     "data": {
      "image/png": "[encoded data removed]",
      "text/plain": [
       "<Figure size 720x360 with 2 Axes>"
      ]
     },
     "metadata": {
      "needs_background": "light"
     },
     "output_type": "display_data"
    }
   ],
   "source": [
    "brlDf = trxDf[trxDf[\"transaction_currency\"] == \"BRL\"]\n",
    "\n",
    "plot = sns.displot(data=brlDf, x=\"transaction_amount\", col=\"transaction_type\", kde=True)\n",
    "\n",
    "\n",
    "plt.show()"
   ]
  },
  {
   "cell_type": "markdown",
   "id": "objective-logic",
   "metadata": {},
   "source": [
    "### Using CML Environment Variables"
   ]
  },
  {
   "cell_type": "markdown",
   "id": "laughing-northwest",
   "metadata": {},
   "source": [
    "CML Allows you to use environment variables both at the project and/or workspace level. This allows you to hide your credentials while reusing important user specific settings."
   ]
  },
  {
   "cell_type": "markdown",
   "id": "alert-pittsburgh",
   "metadata": {},
   "source": [
    "To start with, let's create a Project environment variable by going to the Project home page and opening the User Settings tab"
   ]
  },
  {
   "cell_type": "markdown",
   "id": "racial-semiconductor",
   "metadata": {},
   "source": [
    "Next, open the \"Advanced\" tab and enter the following inputs into the environment variables cells"
   ]
  },
  {
   "cell_type": "markdown",
   "id": "worthy-signature",
   "metadata": {},
   "source": [
    "![title](img/env_vars.png)"
   ]
  },
  {
   "cell_type": "markdown",
   "id": "informal-peace",
   "metadata": {},
   "source": [
    "Finally, navigate back to the \"Sessions\" tab and launch a new session with the JupyterLab IDE. Reopen this notebook and continue from here."
   ]
  },
  {
   "cell_type": "markdown",
   "id": "robust-round",
   "metadata": {},
   "source": [
    "Now you can call the environment variable from the notebook's cells as shown below. You will need to import the os library."
   ]
  },
  {
   "cell_type": "code",
   "execution_count": 9,
   "id": "configured-geometry",
   "metadata": {
    "tags": []
   },
   "outputs": [],
   "source": [
    "import os"
   ]
  },
  {
   "cell_type": "code",
   "execution_count": 10,
   "id": "aquatic-stopping",
   "metadata": {
    "tags": []
   },
   "outputs": [
    {
     "name": "stdout",
     "output_type": "stream",
     "text": [
      "MY_VAR\n"
     ]
    }
   ],
   "source": [
    "print(os.environ[\"MY_PROJECT_VAR\"])"
   ]
  },
  {
   "cell_type": "code",
   "execution_count": null,
   "id": "compact-inquiry",
   "metadata": {},
   "outputs": [],
   "source": []
  }
 ],
 "metadata": {
  "kernelspec": {
   "display_name": "Python 3 (ipykernel)",
   "language": "python",
   "name": "python3"
  },
  "language_info": {
   "codemirror_mode": {
    "name": "ipython",
    "version": 3
   },
   "file_extension": ".py",
   "mimetype": "text/x-python",
   "name": "python",
   "nbconvert_exporter": "python",
   "pygments_lexer": "ipython3",
   "version": "3.9.18"
  }
 },
 "nbformat": 4,
 "nbformat_minor": 5
}
