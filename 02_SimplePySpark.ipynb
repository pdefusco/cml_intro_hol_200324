{
 "cells": [
  {
   "cell_type": "markdown",
   "id": "2148b9f4-c98b-44c3-9ab9-359e52730359",
   "metadata": {},
   "source": [
    "## PySpark Basics in CML"
   ]
  },
  {
   "cell_type": "markdown",
   "id": "d0f53dde-24d0-42d8-a4fa-9ef056d47a11",
   "metadata": {},
   "source": [
    "**Apache Spark is a general purpose framework for distributed computing that offers high performance for both batch and stream processing. It exposes APIs for Java, Python, R, and Scala, as well as an interactive shell for you to run jobs.**\n",
    "\n",
    "**In Cloudera Machine Learning (CML), Spark and its dependencies are bundled directly into the CML engine Docker image or CML Runtime. CML supports fully-containerized execution of Spark workloads via Spark's support for the Kubernetes cluster backend. Users can interact with Spark both interactively and in batch mode.**\n",
    "\n",
    " "
   ]
  },
  {
   "cell_type": "markdown",
   "id": "21a8b8a0-21a3-4f8a-beaf-bf8bda467671",
   "metadata": {
    "tags": []
   },
   "source": [
    "![title](img/sparkonk8s.png)"
   ]
  },
  {
   "cell_type": "markdown",
   "id": "26860dbb-87fe-442a-aff4-82e9879394f8",
   "metadata": {},
   "source": [
    "**The bottom line: Spark on CML is dramatically easier to use than Spark on Yarn on CDSW or other platforms. There is no need to distribute dependencies among execuotors. You can easily spin up multi-executor distributed Spark Sessions and interrupt them as needed, all within quotas and other cost monitoring constraints**"
   ]
  },
  {
   "cell_type": "code",
   "execution_count": 24,
   "id": "26037ffe-f8c9-49e6-979c-91b3564a91ea",
   "metadata": {
    "tags": []
   },
   "outputs": [],
   "source": [
    "from pyspark.sql import SparkSession\n",
    "from pyspark.sql import functions as F"
   ]
  },
  {
   "cell_type": "code",
   "execution_count": 25,
   "id": "d3758592-d2bc-4ce2-a2b9-2d155ff9a910",
   "metadata": {
    "tags": []
   },
   "outputs": [],
   "source": [
    "import numpy as np\n",
    "import pandas as pd\n",
    "import os\n",
    "import matplotlib.pyplot as plt"
   ]
  },
  {
   "cell_type": "markdown",
   "id": "f97b0d0e-ec59-4e7d-b010-79d7ae6c43c7",
   "metadata": {},
   "source": [
    "**A simple, single pod Spark Session can be instantiated as shown below. This creates a single pod for the Spark application**"
   ]
  },
  {
   "cell_type": "code",
   "execution_count": 26,
   "id": "ce7cb2e7-47d7-4d68-8782-09356b9843bd",
   "metadata": {
    "tags": []
   },
   "outputs": [],
   "source": [
    "spark = SparkSession\\\n",
    "    .builder\\\n",
    "    .master(\"local[*]\")\\\n",
    "    .appName(\"SimpleSession\")\\\n",
    "    .getOrCreate()"
   ]
  },
  {
   "cell_type": "code",
   "execution_count": 27,
   "id": "192cf257-2b34-4d8f-b69a-0004d1d599c8",
   "metadata": {
    "tags": []
   },
   "outputs": [
    {
     "data": {
      "text/html": [
       "\n",
       "            <div>\n",
       "                <p><b>SparkSession - hive</b></p>\n",
       "                \n",
       "        <div>\n",
       "            <p><b>SparkContext</b></p>\n",
       "\n",
       "            <p><a href=\"http://100.100.241.33:20049\">Spark UI</a></p>\n",
       "\n",
       "            <dl>\n",
       "              <dt>Version</dt>\n",
       "                <dd><code>v3.2.3.1.19.7215.0-118</code></dd>\n",
       "              <dt>Master</dt>\n",
       "                <dd><code>local[*]</code></dd>\n",
       "              <dt>AppName</dt>\n",
       "                <dd><code>None</code></dd>\n",
       "            </dl>\n",
       "        </div>\n",
       "        \n",
       "            </div>\n",
       "        "
      ],
      "text/plain": [
       "<pyspark.sql.session.SparkSession at 0x7fa970bec1c0>"
      ]
     },
     "execution_count": 27,
     "metadata": {},
     "output_type": "execute_result"
    }
   ],
   "source": [
    "spark"
   ]
  },
  {
   "cell_type": "code",
   "execution_count": 28,
   "id": "2072f567-f206-442c-b570-f2586a4a7249",
   "metadata": {
    "tags": []
   },
   "outputs": [
    {
     "name": "stdout",
     "output_type": "stream",
     "text": [
      "https://spark-0le5ksy2s1c2vh58.ml-8ca3bf44-93c.se-sandb.a465-9q4k.cloudera.site\n"
     ]
    }
   ],
   "source": [
    "import os\n",
    "print(\"https://spark-\"+os.environ[\"CDSW_ENGINE_ID\"]+\".\"+os.environ[\"CDSW_DOMAIN\"])"
   ]
  },
  {
   "cell_type": "markdown",
   "id": "ee0fee31-2c9c-4b37-9eff-ede644f5e079",
   "metadata": {},
   "source": [
    "You can reach the Spark UI from the URL as shown above."
   ]
  },
  {
   "cell_type": "markdown",
   "id": "c5f8f2ab-f3e7-4349-a867-bf7bfb202092",
   "metadata": {},
   "source": [
    "![title](img/spark_ui.png)"
   ]
  },
  {
   "cell_type": "markdown",
   "id": "3db12df6-ce12-4430-82bd-8fb297c11cd6",
   "metadata": {},
   "source": [
    "You can stop the Spark session any time as below"
   ]
  },
  {
   "cell_type": "markdown",
   "id": "9d902e21-2c74-443a-afe8-0c8fb7045d4f",
   "metadata": {},
   "source": [
    "Let's try a Spark Session with more horsepower. You can increase number of cores and memory for the Driver and Executors with the following settings"
   ]
  },
  {
   "cell_type": "code",
   "execution_count": 29,
   "id": "5ab340e8-3bc7-43b1-9936-72b147e863c7",
   "metadata": {
    "tags": []
   },
   "outputs": [
    {
     "data": {
      "text/plain": [
       "'spark = SparkSession    .builder    .master(\"local\")    .appName(\"DistributedSession\")    .config(\"spark.executor.memory\",\"2g\")    .config(\"spark.executor.cores\",\"5\")    .config(\"spark.driver.memory\",\"2g\")    .getOrCreate()'"
      ]
     },
     "execution_count": 29,
     "metadata": {},
     "output_type": "execute_result"
    }
   ],
   "source": [
    "\"\"\"spark = SparkSession\\\n",
    "    .builder\\\n",
    "    .master(\"local\")\\\n",
    "    .appName(\"DistributedSession\")\\\n",
    "    .config(\"spark.executor.memory\",\"2g\")\\\n",
    "    .config(\"spark.executor.cores\",\"5\")\\\n",
    "    .config(\"spark.driver.memory\",\"2g\")\\\n",
    "    .getOrCreate()\"\"\""
   ]
  },
  {
   "cell_type": "markdown",
   "id": "c9a1eb4e-f8f5-4813-82f1-478d5bb74cc0",
   "metadata": {},
   "source": [
    "You just created a distributed Spark Session with 1 Driver and 5 Executors. Each Executor has 8 cores and 2GB of memory. Not bad!"
   ]
  },
  {
   "cell_type": "code",
   "execution_count": 30,
   "id": "523db608-adcc-43f7-874f-854a8a2e8e9d",
   "metadata": {
    "tags": []
   },
   "outputs": [],
   "source": [
    "spark.stop()"
   ]
  },
  {
   "cell_type": "markdown",
   "id": "d82c4215-62c1-4d73-9845-352a7f907867",
   "metadata": {},
   "source": [
    "## Spark Data Connections"
   ]
  },
  {
   "cell_type": "markdown",
   "id": "19aab8d0-1921-4d32-947e-5074757b4ac0",
   "metadata": {},
   "source": [
    "The best way to launch a spark session is however Spark Data Connections. This feature provides the code you need to launch your Spark Session and already includes the Iceberg jars to enable Lakehouse analytics!"
   ]
  },
  {
   "cell_type": "markdown",
   "id": "3c1f92ac-be4b-4a8a-98e5-f58b7de9bb63",
   "metadata": {},
   "source": [
    "To launch a Spark Data Connection, open \"Data\" and pick the \"Spark\" option. Then copy paste the code into the cell below:"
   ]
  },
  {
   "cell_type": "markdown",
   "id": "6e68c3b6-548d-4ce6-8a8c-49e774828feb",
   "metadata": {
    "tags": []
   },
   "source": [
    "![title](img/dataconnections.png)"
   ]
  },
  {
   "cell_type": "code",
   "execution_count": 31,
   "id": "fea1dce7-f895-46c4-abc1-3191dd24580e",
   "metadata": {
    "tags": []
   },
   "outputs": [
    {
     "name": "stderr",
     "output_type": "stream",
     "text": [
      "24/03/19 23:54:12 WARN SparkConf: The configuration key 'spark.yarn.access.hadoopFileSystems' has been deprecated as of Spark 3.0 and may be removed in the future. Please use the new key 'spark.kerberos.access.hadoopFileSystems' instead.\n",
      "24/03/19 23:54:13 WARN HiveClientImpl: Detected HiveConf hive.execution.engine is 'tez' and will be reset to 'mr' to disable useless hive logic\n",
      "Hive Session ID = 0971466f-749e-40e4-b2ad-4219ead75be1\n"
     ]
    },
    {
     "name": "stdout",
     "output_type": "stream",
     "text": [
      "+------------------+\n",
      "|         namespace|\n",
      "+------------------+\n",
      "|           default|\n",
      "|information_schema|\n",
      "|               sys|\n",
      "+------------------+\n",
      "\n"
     ]
    }
   ],
   "source": [
    "import cml.data_v1 as cmldata\n",
    "\n",
    "# Sample in-code customization of spark configurations\n",
    "#from pyspark import SparkContext\n",
    "#SparkContext.setSystemProperty('spark.executor.cores', '1')\n",
    "#SparkContext.setSystemProperty('spark.executor.memory', '2g')\n",
    "\n",
    "CONNECTION_NAME = \"bco-cdp-prd-datalake\"\n",
    "conn = cmldata.get_connection(CONNECTION_NAME)\n",
    "spark = conn.get_spark_session()\n",
    "\n",
    "# Sample usage to run query through spark\n",
    "EXAMPLE_SQL_QUERY = \"show databases\"\n",
    "spark.sql(EXAMPLE_SQL_QUERY).show()"
   ]
  },
  {
   "cell_type": "markdown",
   "id": "dominant-capital",
   "metadata": {},
   "source": [
    "## Intro to Spark SQL"
   ]
  },
  {
   "cell_type": "code",
   "execution_count": 32,
   "id": "mineral-likelihood",
   "metadata": {
    "tags": []
   },
   "outputs": [],
   "source": [
    "import numpy as np\n",
    "import pandas as pd\n",
    "import os\n",
    "import matplotlib.pyplot as plt\n",
    "import seaborn as sns"
   ]
  },
  {
   "cell_type": "code",
   "execution_count": 33,
   "id": "increasing-blackjack",
   "metadata": {
    "tags": []
   },
   "outputs": [],
   "source": [
    "df = spark.read.option(\"inferschema\", True).option(\"header\", True).csv('data/LoanStats_2015_subset.csv')"
   ]
  },
  {
   "cell_type": "code",
   "execution_count": 34,
   "id": "wireless-acrobat",
   "metadata": {
    "tags": []
   },
   "outputs": [
    {
     "name": "stdout",
     "output_type": "stream",
     "text": [
      "Dataframe Shape\n",
      "(24136, 105)\n"
     ]
    }
   ],
   "source": [
    "#Printing number of rows and columns:\n",
    "print('Dataframe Shape')\n",
    "print((df.count(), len(df.columns)))"
   ]
  },
  {
   "cell_type": "code",
   "execution_count": 35,
   "id": "10880ecc-2f98-4afb-bb15-2ecb78ba0866",
   "metadata": {
    "tags": []
   },
   "outputs": [],
   "source": [
    "#df.printSchema()"
   ]
  },
  {
   "cell_type": "markdown",
   "id": "equal-peoples",
   "metadata": {},
   "source": [
    "## KPI Reporting"
   ]
  },
  {
   "cell_type": "code",
   "execution_count": 36,
   "id": "6e6b79a9-45de-4d2c-9baa-6984885bd401",
   "metadata": {
    "tags": []
   },
   "outputs": [],
   "source": [
    "import pyspark.sql.functions as F\n",
    "import seaborn as sns\n",
    "from pyspark.ml.feature import Bucketizer"
   ]
  },
  {
   "cell_type": "markdown",
   "id": "ab02a5ff-5e82-431b-9553-add0317a924d",
   "metadata": {},
   "source": [
    "#### Min and Max Loan Amount "
   ]
  },
  {
   "cell_type": "code",
   "execution_count": 37,
   "id": "d7612618-17d0-4ca4-987f-6471588f8785",
   "metadata": {
    "tags": []
   },
   "outputs": [
    {
     "name": "stdout",
     "output_type": "stream",
     "text": [
      "Minimum Loan Amount\n",
      "+--------------+\n",
      "|min(loan_amnt)|\n",
      "+--------------+\n",
      "|          1000|\n",
      "+--------------+\n",
      "\n",
      "Maximum Loan Amount\n",
      "+--------------+\n",
      "|max(loan_amnt)|\n",
      "+--------------+\n",
      "|         35000|\n",
      "+--------------+\n",
      "\n"
     ]
    }
   ],
   "source": [
    "print(\"Minimum Loan Amount\")\n",
    "df.agg(F.min(\"loan_amnt\")).show()\n",
    "\n",
    "print(\"Maximum Loan Amount\")\n",
    "df.agg(F.max(\"loan_amnt\")).show()"
   ]
  },
  {
   "cell_type": "markdown",
   "id": "6526352f-94bd-484b-a1ab-c30e043c5839",
   "metadata": {},
   "source": [
    "#### Create Bins from the Loan Amount Column"
   ]
  },
  {
   "cell_type": "code",
   "execution_count": 38,
   "id": "b8d245df-9c77-4bf3-af86-43eb817cd1dd",
   "metadata": {
    "tags": []
   },
   "outputs": [],
   "source": [
    "df2 = Bucketizer(\n",
    "    splits=[-float('inf'), 10000, 20000, float('inf')],\n",
    "    inputCol='loan_amnt',\n",
    "    outputCol='loan_amnt_bin'\n",
    ").transform(df)"
   ]
  },
  {
   "cell_type": "code",
   "execution_count": 39,
   "id": "b8c8a1fc-d044-402c-87ec-8d6346c8f401",
   "metadata": {
    "tags": []
   },
   "outputs": [
    {
     "data": {
      "text/html": [
       "<div>\n",
       "<style scoped>\n",
       "    .dataframe tbody tr th:only-of-type {\n",
       "        vertical-align: middle;\n",
       "    }\n",
       "\n",
       "    .dataframe tbody tr th {\n",
       "        vertical-align: top;\n",
       "    }\n",
       "\n",
       "    .dataframe thead th {\n",
       "        text-align: right;\n",
       "    }\n",
       "</style>\n",
       "<table border=\"1\" class=\"dataframe\">\n",
       "  <thead>\n",
       "    <tr style=\"text-align: right;\">\n",
       "      <th></th>\n",
       "      <th>loan_amnt_bin</th>\n",
       "    </tr>\n",
       "  </thead>\n",
       "  <tbody>\n",
       "    <tr>\n",
       "      <th>0</th>\n",
       "      <td>1.0</td>\n",
       "    </tr>\n",
       "    <tr>\n",
       "      <th>1</th>\n",
       "      <td>2.0</td>\n",
       "    </tr>\n",
       "    <tr>\n",
       "      <th>2</th>\n",
       "      <td>2.0</td>\n",
       "    </tr>\n",
       "    <tr>\n",
       "      <th>3</th>\n",
       "      <td>2.0</td>\n",
       "    </tr>\n",
       "    <tr>\n",
       "      <th>4</th>\n",
       "      <td>1.0</td>\n",
       "    </tr>\n",
       "    <tr>\n",
       "      <th>...</th>\n",
       "      <td>...</td>\n",
       "    </tr>\n",
       "    <tr>\n",
       "      <th>24131</th>\n",
       "      <td>0.0</td>\n",
       "    </tr>\n",
       "    <tr>\n",
       "      <th>24132</th>\n",
       "      <td>1.0</td>\n",
       "    </tr>\n",
       "    <tr>\n",
       "      <th>24133</th>\n",
       "      <td>2.0</td>\n",
       "    </tr>\n",
       "    <tr>\n",
       "      <th>24134</th>\n",
       "      <td>1.0</td>\n",
       "    </tr>\n",
       "    <tr>\n",
       "      <th>24135</th>\n",
       "      <td>0.0</td>\n",
       "    </tr>\n",
       "  </tbody>\n",
       "</table>\n",
       "<p>24136 rows × 1 columns</p>\n",
       "</div>"
      ],
      "text/plain": [
       "       loan_amnt_bin\n",
       "0                1.0\n",
       "1                2.0\n",
       "2                2.0\n",
       "3                2.0\n",
       "4                1.0\n",
       "...              ...\n",
       "24131            0.0\n",
       "24132            1.0\n",
       "24133            2.0\n",
       "24134            1.0\n",
       "24135            0.0\n",
       "\n",
       "[24136 rows x 1 columns]"
      ]
     },
     "execution_count": 39,
     "metadata": {},
     "output_type": "execute_result"
    }
   ],
   "source": [
    "df2_pandas = df2.select(\"loan_amnt_bin\").toPandas()\n",
    "df2_pandas"
   ]
  },
  {
   "cell_type": "code",
   "execution_count": 40,
   "id": "d967d331-4295-4841-b43e-778925879b22",
   "metadata": {
    "tags": []
   },
   "outputs": [
    {
     "data": {
      "image/png": "[encoded data removed]",
      "text/plain": [
       "<Figure size 432x288 with 1 Axes>"
      ]
     },
     "metadata": {
      "needs_background": "light"
     },
     "output_type": "display_data"
    }
   ],
   "source": [
    "sns.countplot(x=\"loan_amnt_bin\", data=df2_pandas).set(title='Count By Loan Amount Categories')\n",
    "plt.show()"
   ]
  },
  {
   "cell_type": "markdown",
   "id": "7b4d41b0-a0b3-4708-b835-707c62654143",
   "metadata": {},
   "source": [
    "### Rounded Mean Funded Amount By Loan Amount Bins"
   ]
  },
  {
   "cell_type": "code",
   "execution_count": 41,
   "id": "rough-keyboard",
   "metadata": {
    "tags": []
   },
   "outputs": [
    {
     "name": "stdout",
     "output_type": "stream",
     "text": [
      "+-------------+----------------------+\n",
      "|loan_amnt_bin|CEIL(avg(funded_amnt))|\n",
      "+-------------+----------------------+\n",
      "|          0.0|                  5851|\n",
      "|          1.0|                 13750|\n",
      "|          2.0|                 26139|\n",
      "+-------------+----------------------+\n",
      "\n"
     ]
    }
   ],
   "source": [
    "#how many loans defaulted for each month (all data is 2015):\n",
    "df2.groupby('loan_amnt_bin').mean('funded_amnt').na.drop().select(\"loan_amnt_bin\", F.ceil(F.col(\"avg(funded_amnt)\"))).show()"
   ]
  },
  {
   "cell_type": "markdown",
   "id": "breathing-parcel",
   "metadata": {},
   "source": [
    "### Spark SQL"
   ]
  },
  {
   "cell_type": "code",
   "execution_count": 42,
   "id": "surprising-communications",
   "metadata": {
    "tags": []
   },
   "outputs": [
    {
     "name": "stdout",
     "output_type": "stream",
     "text": [
      "+------------------+\n",
      "|         namespace|\n",
      "+------------------+\n",
      "|           default|\n",
      "|information_schema|\n",
      "|               sys|\n",
      "+------------------+\n",
      "\n"
     ]
    }
   ],
   "source": [
    "spark.sql(\"show databases\").show()"
   ]
  },
  {
   "cell_type": "markdown",
   "id": "e0b34297-b042-46bb-984e-dcdf4727b047",
   "metadata": {},
   "source": [
    "#### Saving the Table As Temporary View"
   ]
  },
  {
   "cell_type": "code",
   "execution_count": 44,
   "id": "2fe1e885-bdb6-4173-b290-b17042f74c17",
   "metadata": {
    "tags": []
   },
   "outputs": [
    {
     "name": "stderr",
     "output_type": "stream",
     "text": [
      "24/03/19 23:54:49 WARN package: Truncated the string representation of a plan since it was too large. This behavior can be adjusted by setting 'spark.sql.debug.maxToStringFields'.\n"
     ]
    }
   ],
   "source": [
    "## Registering the dataframe as a temporary table:\n",
    "## Temporary views in Spark SQL are session-scoped and will disappear if the session that creates it terminates. \n",
    "\n",
    "df2.createOrReplaceTempView(\"my_temp_view\")"
   ]
  },
  {
   "cell_type": "markdown",
   "id": "a4edf124-12f0-4968-930f-c3c6d3e1519e",
   "metadata": {},
   "source": [
    "#### Saving the Table Permanently in CDW"
   ]
  },
  {
   "cell_type": "code",
   "execution_count": 46,
   "id": "e49e5525-363f-497e-a440-86ec413aa683",
   "metadata": {
    "tags": []
   },
   "outputs": [
    {
     "name": "stderr",
     "output_type": "stream",
     "text": [
      "                                                                                \r"
     ]
    }
   ],
   "source": [
    "## The table will now be a Hive External Table and will show in CDW and Atlas.\n",
    "## Ranger Policies can now be set on the Table\n",
    "\n",
    "df2.select([\"funded_amnt\", \"loan_amnt\", \"installment\", \"tot_cur_bal\"]).write.format('parquet').mode(\"overwrite\").saveAsTable('proceso.my_hive_table')"
   ]
  },
  {
   "cell_type": "code",
   "execution_count": 47,
   "id": "795ab942-0457-44c0-9077-cc0c3c99e442",
   "metadata": {
    "tags": []
   },
   "outputs": [],
   "source": [
    "spark.stop()"
   ]
  },
  {
   "cell_type": "code",
   "execution_count": null,
   "id": "3ddb9b78-ca1c-48f9-a4ba-b1f6b2bed47b",
   "metadata": {},
   "outputs": [],
   "source": []
  }
 ],
 "metadata": {
  "kernelspec": {
   "display_name": "Python 3 (ipykernel)",
   "language": "python",
   "name": "python3"
  },
  "language_info": {
   "codemirror_mode": {
    "name": "ipython",
    "version": 3
   },
   "file_extension": ".py",
   "mimetype": "text/x-python",
   "name": "python",
   "nbconvert_exporter": "python",
   "pygments_lexer": "ipython3",
   "version": "3.9.18"
  }
 },
 "nbformat": 4,
 "nbformat_minor": 5
}
